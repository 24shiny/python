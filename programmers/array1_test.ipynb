{
 "cells": [
  {
   "cell_type": "markdown",
   "id": "0db466b0-32da-4be3-9232-404b6e2da421",
   "metadata": {},
   "source": [
    "Q1. A function to sort an integer array <br>\n",
    "For example, [4, 1, 3, 5, 2] -> [1, 2, 3, 4, 5]"
   ]
  },
  {
   "cell_type": "code",
   "execution_count": 3,
   "id": "13763f5f-4f2f-4fe3-94af-eb834b64fd14",
   "metadata": {},
   "outputs": [],
   "source": [
    "def sort_arr(arr):\n",
    "    return sorted(arr)"
   ]
  },
  {
   "cell_type": "code",
   "execution_count": 4,
   "id": "768bb44f-8eb4-40d9-9c2d-26692adb37e8",
   "metadata": {},
   "outputs": [
    {
     "data": {
      "text/plain": [
       "[1, 2, 3, 4, 5]"
      ]
     },
     "execution_count": 4,
     "metadata": {},
     "output_type": "execute_result"
    }
   ],
   "source": [
    "sort_arr([4, 1, 3, 5, 2])"
   ]
  },
  {
   "cell_type": "markdown",
   "id": "cbc10f13-8db5-4b1c-86a5-8e28994f1990",
   "metadata": {},
   "source": [
    "Q2. A function to reversely sort an integer array with duplicates <br>\n",
    "For example, [1, 4, 1, 3, 5, 4, 2] -> [5, 4, 3, 2, 1]"
   ]
  },
  {
   "cell_type": "code",
   "execution_count": 5,
   "id": "84b82e2e-1bfb-490c-8adc-9d9258bb3949",
   "metadata": {},
   "outputs": [],
   "source": [
    "def reverse_sort_arr(arr):\n",
    "    arr = set(arr)\n",
    "    return list(sorted(arr, reverse=True))"
   ]
  },
  {
   "cell_type": "code",
   "execution_count": 6,
   "id": "3c0bd778-ce72-42e7-9fd0-88c25aef63d3",
   "metadata": {},
   "outputs": [
    {
     "data": {
      "text/plain": [
       "[5, 4, 3, 2, 1]"
      ]
     },
     "execution_count": 6,
     "metadata": {},
     "output_type": "execute_result"
    }
   ],
   "source": [
    "reverse_sort_arr([1, 4, 1, 3, 5, 4, 2])"
   ]
  },
  {
   "cell_type": "markdown",
   "id": "2f5b7b71-0486-4009-9277-ffdf7ac221ab",
   "metadata": {},
   "source": [
    "Q3. A function to return a sorted array which consists of all possible sums of two elements in a given array <br>\n",
    "For example, [5, 0, 2, 7] -> [2, 5, 7, 9, 12]"
   ]
  },
  {
   "cell_type": "code",
   "execution_count": 11,
   "id": "07f794f9-cb2f-41eb-8214-d70fc6b9f9f4",
   "metadata": {},
   "outputs": [],
   "source": [
    "def sort_sum_arr(arr):\n",
    "    temp = []\n",
    "    for i in range(len(arr)-1):\n",
    "        for j in range(i+1, len(arr)):\n",
    "            temp.append(arr[i]+arr[j])\n",
    "    return sorted(list(set(temp)))"
   ]
  },
  {
   "cell_type": "code",
   "execution_count": 12,
   "id": "8a41f9ed-bbba-4ebb-8e44-751e1dd7dde2",
   "metadata": {},
   "outputs": [
    {
     "data": {
      "text/plain": [
       "[2, 5, 7, 9, 12]"
      ]
     },
     "execution_count": 12,
     "metadata": {},
     "output_type": "execute_result"
    }
   ],
   "source": [
    "sort_sum_arr([5, 0, 2, 7])"
   ]
  },
  {
   "cell_type": "markdown",
   "id": "5ee33611-98be-4974-ba98-ca77d02af508",
   "metadata": {},
   "source": [
    "Q4. Selecting answers at random on a test<br>\n",
    "Three students take a test where they select answers at random, yet in their own ways:<br>\n",
    "STD1 : <u>1, 2, 3, 4, 5</u>, 1, 2, ... <br>\n",
    "STD2 : <u>2, 1, 2, 3, 2, 4, 2, 5</u>, 2, 1, ... <br>\n",
    "STD3 : <u>3, 3, 1, 1, 2, 2, 4, 4, 5, 5</u>, 3, 3, ... <br>\n",
    "Who's got the highest score? If there are more than two with the highest score, sort their indices in the ascending order"
   ]
  },
  {
   "cell_type": "code",
   "execution_count": 35,
   "id": "987ec52d-bcdf-4116-90d4-f87f573d146d",
   "metadata": {},
   "outputs": [
    {
     "data": {
      "text/plain": [
       "array([1, 5, 5, 2, 1, 1, 3, 5, 5, 1, 3, 5, 4, 4, 3, 3, 3, 4, 1, 5, 2, 2,\n",
       "       5, 3, 3, 5, 3, 2, 1, 5, 5, 2, 4, 3, 1, 4, 3, 2, 2, 3, 4, 4, 4, 1,\n",
       "       5, 2, 2, 1, 5, 2], dtype=int32)"
      ]
     },
     "execution_count": 35,
     "metadata": {},
     "output_type": "execute_result"
    }
   ],
   "source": [
    "# generate an answer sheet on your own\n",
    "import numpy as np\n",
    "answer = np.random.randint(1, 6, 50)\n",
    "answer"
   ]
  },
  {
   "cell_type": "code",
   "execution_count": 36,
   "id": "520ac00f-f566-4cc4-a794-00ef648f3e44",
   "metadata": {},
   "outputs": [],
   "source": [
    "def first_grade(answer):\n",
    "    std_answer = [\n",
    "        [1, 2, 3, 4, 5], [2, 1, 2, 3, 2, 4, 2, 5], [3, 3, 1, 1, 2, 2, 4, 4, 5, 5]\n",
    "    ]\n",
    "    std_score = [0] * 3\n",
    "    for i, answer_val in enumerate(answer):\n",
    "        for j, std_answer_val in enumerate(std_answer):\n",
    "            if answer_val == std_answer_val[i%len(std_answer_val)]:\n",
    "                std_score[j] += 1\n",
    "    return [idx+1 for idx, val in enumerate(std_score) if val==np.max(std_score)]"
   ]
  },
  {
   "cell_type": "code",
   "execution_count": 37,
   "id": "a666be69-112f-4ad3-a0c9-54b9b49fb268",
   "metadata": {},
   "outputs": [
    {
     "data": {
      "text/plain": [
       "[1]"
      ]
     },
     "execution_count": 37,
     "metadata": {},
     "output_type": "execute_result"
    }
   ],
   "source": [
    "first_grade(answer)"
   ]
  },
  {
   "cell_type": "code",
   "execution_count": null,
   "id": "0dcec0c2-1d85-489d-ae6c-889c45049e3f",
   "metadata": {},
   "outputs": [],
   "source": []
  }
 ],
 "metadata": {
  "kernelspec": {
   "display_name": "Python 3 (ipykernel)",
   "language": "python",
   "name": "python3"
  },
  "language_info": {
   "codemirror_mode": {
    "name": "ipython",
    "version": 3
   },
   "file_extension": ".py",
   "mimetype": "text/x-python",
   "name": "python",
   "nbconvert_exporter": "python",
   "pygments_lexer": "ipython3",
   "version": "3.10.0"
  }
 },
 "nbformat": 4,
 "nbformat_minor": 5
}
