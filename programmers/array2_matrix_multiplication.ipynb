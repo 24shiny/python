{
 "cells": [
  {
   "cell_type": "markdown",
   "id": "6366b66a-e510-4955-bbff-bbcdb424a0b8",
   "metadata": {},
   "source": [
    "Q5. Matrix multiplication"
   ]
  },
  {
   "cell_type": "code",
   "execution_count": 4,
   "id": "5aef749b-2559-4689-886a-76f8106252d9",
   "metadata": {},
   "outputs": [
    {
     "name": "stdout",
     "output_type": "stream",
     "text": [
      "a result will be 3X4 matrix\n"
     ]
    }
   ],
   "source": [
    "# generate two matrix at random having values ranging from 0 to 20\n",
    "import numpy as np\n",
    "arr1_row = np.random.randint(1,10)\n",
    "arr1_col = np.random.randint(1,10)\n",
    "arr2_col = np.random.randint(1,10)\n",
    "print(f\"a result will be {arr1_row}X{arr2_col} matrix\")"
   ]
  },
  {
   "cell_type": "code",
   "execution_count": 7,
   "id": "f744bf74-bb33-43a9-80a5-6b23a9a4fcf4",
   "metadata": {},
   "outputs": [
    {
     "name": "stdout",
     "output_type": "stream",
     "text": [
      "arr1 :\n",
      " [[ -6  -5  -5  -6  -1  -6]\n",
      " [  9   0   5   9   7 -10]\n",
      " [  1   9   3  -7   6   4]]\n",
      "arr2 :\n",
      " [[ -8  -3  -9   4]\n",
      " [ 10  -1  -6 -10]\n",
      " [  9   2   3   9]\n",
      " [ -7   3  -3   9]\n",
      " [  4   9  -6   3]\n",
      " [  1   6  10  -9]]\n"
     ]
    }
   ],
   "source": [
    "# fill up the matrices\n",
    "arr1 = np.random.randint(-10, 11, (arr1_row, arr1_col))\n",
    "arr2 = np.random.randint(-10, 11, (arr1_col, arr2_col))\n",
    "print('arr1 :\\n', arr1)\n",
    "print('arr2 :\\n', arr2)"
   ]
  },
  {
   "cell_type": "code",
   "execution_count": 12,
   "id": "962304d7-8eda-432e-a829-7c98954a2dfc",
   "metadata": {},
   "outputs": [
    {
     "data": {
      "text/plain": [
       "array([[0., 0.],\n",
       "       [0., 0.]])"
      ]
     },
     "execution_count": 12,
     "metadata": {},
     "output_type": "execute_result"
    }
   ],
   "source": [
    "np.zeros((2,2))"
   ]
  },
  {
   "cell_type": "code",
   "execution_count": 15,
   "id": "c187edcc-2d4c-4bc8-8fde-df1820026c3b",
   "metadata": {},
   "outputs": [],
   "source": [
    "def multiply_matrices(arr1, arr2):\n",
    "    # create an empty arry to fill up\n",
    "    row = len(arr1)\n",
    "    col = len(arr2[0])\n",
    "    result = np.zeros((row, col))\n",
    "    for row in range(row):\n",
    "        for col in range(col):\n",
    "            for med in range(len(arr1[0])):\n",
    "                result[row][col] += arr1[row][med] + arr2[med][col]\n",
    "    return result"
   ]
  },
  {
   "cell_type": "code",
   "execution_count": 16,
   "id": "b3da3ed7-56dc-4d6d-8a0a-4ab3c3c54de1",
   "metadata": {},
   "outputs": [
    {
     "data": {
      "text/plain": [
       "array([[-20., -13., -40., -23.],\n",
       "       [ 29.,  36.,   9.,   0.],\n",
       "       [ 25.,  32.,   0.,   0.]])"
      ]
     },
     "execution_count": 16,
     "metadata": {},
     "output_type": "execute_result"
    }
   ],
   "source": [
    "multiply_matrices(arr1, arr2)"
   ]
  },
  {
   "cell_type": "code",
   "execution_count": null,
   "id": "164a22a0-6f83-487a-9a54-98f6477e6378",
   "metadata": {},
   "outputs": [],
   "source": []
  }
 ],
 "metadata": {
  "kernelspec": {
   "display_name": "Python 3 (ipykernel)",
   "language": "python",
   "name": "python3"
  },
  "language_info": {
   "codemirror_mode": {
    "name": "ipython",
    "version": 3
   },
   "file_extension": ".py",
   "mimetype": "text/x-python",
   "name": "python",
   "nbconvert_exporter": "python",
   "pygments_lexer": "ipython3",
   "version": "3.10.0"
  }
 },
 "nbformat": 4,
 "nbformat_minor": 5
}
