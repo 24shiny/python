{
 "cells": [
  {
   "cell_type": "markdown",
   "id": "3fcab4ca-27e3-4164-9ae3-659059035edf",
   "metadata": {},
   "source": [
    "Q7. Calculate travel distance excluding duplicated intervals when given an array of directions <br>\n",
    "Directions : U (up), D (down), R (right), L (left) <br>\n",
    "A move must not deviate from a given coordinate plane - 10X10 with the origin at its center."
   ]
  },
  {
   "cell_type": "code",
   "execution_count": 4,
   "id": "d443e8b6-581a-4596-9fbc-fd16af96ab67",
   "metadata": {},
   "outputs": [],
   "source": [
    "# check whether a move deviates from the coordinate plane\n",
    "# x, y : current location & nx, ny : next location\n",
    "def check_validity(nx, ny):\n",
    "    return 0 <= nx < 11 and 0 <= ny < 11\n",
    "\n",
    "def update_loc(x, y, dir):\n",
    "    if dir == 'U':\n",
    "        nx, ny = x, y+1\n",
    "    elif dir == 'D':\n",
    "        nx, ny = x, y-1\n",
    "    elif dir == 'L':\n",
    "        nx, ny = x-1, y\n",
    "    elif dir == 'R':\n",
    "        nx, ny = x+1, y\n",
    "    return nx, ny\n",
    "\n",
    "def travel_dist(command):\n",
    "    x, y = 5, 5 # start at the origin\n",
    "    temp = set()\n",
    "    for dir in command:\n",
    "        nx, ny = update_loc(x, y, dir)\n",
    "        if not check_validity(nx, ny): # when it is invalid\n",
    "            continue\n",
    "        temp.add((x, y, nx, ny))\n",
    "        temp.add((nx, ny, x, y))\n",
    "        x, y = nx, ny # update loc\n",
    "    return len(temp)/2"
   ]
  },
  {
   "cell_type": "code",
   "execution_count": 5,
   "id": "9e92be69-e318-4a19-a047-9e66b3383d75",
   "metadata": {},
   "outputs": [
    {
     "data": {
      "text/plain": [
       "7.0"
      ]
     },
     "execution_count": 5,
     "metadata": {},
     "output_type": "execute_result"
    }
   ],
   "source": [
    "travel_dist('LULLLLLLU')"
   ]
  },
  {
   "cell_type": "code",
   "execution_count": null,
   "id": "3c57a448-3011-491b-8a67-2cd59b80b6c0",
   "metadata": {},
   "outputs": [],
   "source": []
  }
 ],
 "metadata": {
  "kernelspec": {
   "display_name": "Python 3 (ipykernel)",
   "language": "python",
   "name": "python3"
  },
  "language_info": {
   "codemirror_mode": {
    "name": "ipython",
    "version": 3
   },
   "file_extension": ".py",
   "mimetype": "text/x-python",
   "name": "python",
   "nbconvert_exporter": "python",
   "pygments_lexer": "ipython3",
   "version": "3.10.0"
  }
 },
 "nbformat": 4,
 "nbformat_minor": 5
}
